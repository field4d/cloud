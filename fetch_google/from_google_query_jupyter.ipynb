{
 "cells": [
  {
   "cell_type": "code",
   "execution_count": 1,
   "metadata": {},
   "outputs": [],
   "source": [
    "import os\n",
    "from google.cloud import bigquery\n",
    "from google.oauth2 import service_account\n",
    "import pandas as pd\n",
    "import matplotlib.pyplot as plt\n",
    "import plotly.express as px"
   ]
  },
  {
   "cell_type": "code",
   "execution_count": 2,
   "metadata": {},
   "outputs": [],
   "source": [
    "def query_combined_data(client, dataset_id, table_id, print_cost=False):\n",
    "    \"\"\"\n",
    "    Execute a combined query to get distinct sensors, total entries, and last timestamp grouped by ExperimentData_Exp_name.\n",
    "\n",
    "    Parameters:\n",
    "        client (bigquery.Client): Initialized BigQuery client.\n",
    "        dataset_id (str): The ID of the dataset.\n",
    "        table_id (str): The ID of the table.\n",
    "        print_cost (bool): Flag to print query cost.\n",
    "\n",
    "    Returns:\n",
    "        tuple: (query results, estimated cost in USD)\n",
    "    \"\"\"\n",
    "    # Define the combined SQL query\n",
    "    query = f\"\"\"\n",
    "    SELECT\n",
    "      ExperimentData_Exp_name,\n",
    "      COUNT(DISTINCT SensorData_Name) AS sensor_count,\n",
    "      COUNT(*) AS num_entries,\n",
    "      MAX(TimeStamp) AS last_timestamp\n",
    "    FROM\n",
    "      `iucc-f4d.{dataset_id}.{table_id}`\n",
    "    GROUP BY\n",
    "      ExperimentData_Exp_name\n",
    "    ORDER BY\n",
    "      ExperimentData_Exp_name;\n",
    "    \"\"\"\n",
    "\n",
    "    # Configure the query for a dry run to estimate costs\n",
    "    job_config = bigquery.QueryJobConfig(dry_run=True, use_query_cache=False)\n",
    "    query_job = client.query(query, job_config=job_config)\n",
    "\n",
    "    # Calculate estimated cost\n",
    "    bytes_processed = query_job.total_bytes_processed\n",
    "    estimated_cost = (bytes_processed / (1024 ** 4)) * 5  # Cost in USD ($5 per TB)\n",
    "\n",
    "    if print_cost:\n",
    "        print(f\"Estimated cost for table {table_id} in dataset {dataset_id}: ${estimated_cost:.4f}\")\n",
    "\n",
    "    # Execute the actual query\n",
    "    query_job = client.query(query)\n",
    "    return query_job.result(), estimated_cost"
   ]
  },
  {
   "cell_type": "code",
   "execution_count": 3,
   "metadata": {},
   "outputs": [],
   "source": [
    "def query_daily_data(client, dataset_id, table_id):\n",
    "    \"\"\"\n",
    "    Query to calculate the amount of data found per day for each dataset_id.\n",
    "\n",
    "    Parameters:\n",
    "        client (bigquery.Client): Initialized BigQuery client.\n",
    "        dataset_id (str): The ID of the dataset.\n",
    "        table_id (str): The ID of the table.\n",
    "\n",
    "    Returns:\n",
    "        pd.DataFrame: DataFrame containing daily data counts.\n",
    "    \"\"\"\n",
    "    query = f\"\"\"\n",
    "    SELECT\n",
    "      DATE(TimeStamp) AS date,\n",
    "      COUNT(*) AS num_entries\n",
    "    FROM\n",
    "      `iucc-f4d.{dataset_id}.{table_id}`\n",
    "    GROUP BY\n",
    "      date\n",
    "    ORDER BY\n",
    "      date;\n",
    "    \"\"\"\n",
    "\n",
    "    query_job = client.query(query)\n",
    "    results = query_job.result()\n",
    "\n",
    "      # Calculate estimated cost\n",
    "    bytes_processed = query_job.total_bytes_processed\n",
    "    estimated_cost = (bytes_processed / (1024 ** 4)) * 5  # Cost in USD ($5 per TB)\n",
    "\n",
    "\n",
    "    # Convert query results to a DataFrame\n",
    "    data = []\n",
    "    for row in results:\n",
    "        data.append({\n",
    "            \"dataset_id\": dataset_id,\n",
    "            \"date\": row.date,\n",
    "            \"num_entries\": row.num_entries\n",
    "        })\n",
    "\n",
    "    return pd.DataFrame(data),estimated_cost"
   ]
  },
  {
   "cell_type": "code",
   "execution_count": 4,
   "metadata": {},
   "outputs": [],
   "source": [
    "def create_daily_plot(df):\n",
    "    \"\"\"\n",
    "    Create a plot of the amount of data per day for each dataset_id.\n",
    "\n",
    "    Parameters:\n",
    "        df (pd.DataFrame): The DataFrame containing daily data counts.\n",
    "    \"\"\"\n",
    "    plt.figure(figsize=(12, 8))\n",
    "\n",
    "    for dataset_id, group in df.groupby('dataset_id'):\n",
    "        plt.plot(group['date'], group['num_entries'], marker='o', label=dataset_id)\n",
    "\n",
    "    plt.xlabel('Date')\n",
    "    plt.ylabel('Number of Entries')\n",
    "    plt.title('Daily Data Counts per Dataset')\n",
    "    plt.legend(title='Dataset ID', bbox_to_anchor=(1.05, 1), loc='upper left')\n",
    "    plt.grid(True)\n",
    "    plt.tight_layout()\n",
    "    plt.show()"
   ]
  },
  {
   "cell_type": "code",
   "execution_count": 5,
   "metadata": {},
   "outputs": [],
   "source": [
    "\n",
    "# Path to your credentials JSON file\n",
    "credentials_path = \"read_BQ.json\"\n",
    "\n",
    "# Load credentials from the JSON file\n",
    "credentials = service_account.Credentials.from_service_account_file(credentials_path)\n",
    "\n",
    "# Initialize BigQuery client\n",
    "client = bigquery.Client(credentials=credentials, project=\"iucc-f4d\")\n",
    "\n",
    "# Initialize an empty list to store data for the DataFrame\n",
    "data = []\n",
    "\n",
    "dataset_costs = {}  # Dictionary to store costs per dataset\n",
    "combined_cost = 0   # Variable to track the combined cost"
   ]
  },
  {
   "cell_type": "code",
   "execution_count": 6,
   "metadata": {},
   "outputs": [
    {
     "name": "stdout",
     "output_type": "stream",
     "text": [
      "Running query for dataset: GrowthRoom, table: d83adde2608f\n",
      "Estimated cost for table d83adde2608f in dataset GrowthRoom: $0.0000\n",
      "Total estimated cost for dataset GrowthRoom: $0.0000\n",
      "Running query for dataset: Icore_Pi, table: 2ccf6730ab5f\n",
      "Estimated cost for table 2ccf6730ab5f in dataset Icore_Pi: $0.0000\n",
      "Total estimated cost for dataset Icore_Pi: $0.0000\n",
      "Running query for dataset: Yakir, table: d83adde260d1\n",
      "Estimated cost for table d83adde260d1 in dataset Yakir: $0.0000\n",
      "Total estimated cost for dataset Yakir: $0.0000\n",
      "Running query for dataset: cellolar_developer_room, table: 2ccf6730ab8c\n",
      "Estimated cost for table 2ccf6730ab8c in dataset cellolar_developer_room: $0.0000\n",
      "Total estimated cost for dataset cellolar_developer_room: $0.0000\n",
      "Running query for dataset: developer_room, table: d83adde26159\n",
      "Estimated cost for table d83adde26159 in dataset developer_room: $0.0000\n",
      "Total estimated cost for dataset developer_room: $0.0000\n",
      "Combined estimated cost for all datasets: $0.0000872688\n"
     ]
    }
   ],
   "source": [
    "# Iterate through datasets and tables, then run the query for each\n",
    "for dataset in client.list_datasets():\n",
    "    dataset_id = dataset.dataset_id\n",
    "    dataset_total_cost = 0\n",
    "\n",
    "    for table in client.list_tables(dataset_id):\n",
    "        table_id = table.table_id\n",
    "        print(f\"Running query for dataset: {dataset_id}, table: {table_id}\")\n",
    "        results, estimated_cost = query_combined_data(client, dataset_id, table_id, print_cost=True)\n",
    "\n",
    "        # Add query results to the data list\n",
    "        for row in results:\n",
    "            data.append({\n",
    "                \"dataset_id\": dataset_id,\n",
    "                \"table_id\": table_id,\n",
    "                \"ExperimentData_Exp_name\": row.ExperimentData_Exp_name,\n",
    "                \"sensor_count\": row.sensor_count,\n",
    "                \"num_entries\": row.num_entries,\n",
    "                \"last_timestamp\": row.last_timestamp,\n",
    "                \"estimated_cost\": estimated_cost\n",
    "            })\n",
    "\n",
    "        dataset_total_cost += estimated_cost\n",
    "\n",
    "    # Store total cost for the dataset\n",
    "    dataset_costs[dataset_id] = dataset_total_cost\n",
    "    combined_cost += dataset_total_cost\n",
    "\n",
    "    print(f\"Total estimated cost for dataset {dataset_id}: ${dataset_total_cost:.4f}\")\n",
    "\n",
    "# Print combined cost for all datasets\n",
    "print(f\"Combined estimated cost for all datasets: ${combined_cost:.10f}\")\n",
    "\n",
    "# Create a DataFrame from the collected data\n",
    "df = pd.DataFrame(data)"
   ]
  },
  {
   "cell_type": "code",
   "execution_count": 7,
   "metadata": {},
   "outputs": [
    {
     "name": "stdout",
     "output_type": "stream",
     "text": [
      "Running daily data query for dataset: GrowthRoom, table: d83adde2608f, estimated cost: $0.0000\n",
      "Running daily data query for dataset: Icore_Pi, table: 2ccf6730ab5f, estimated cost: $0.0000\n",
      "Running daily data query for dataset: Yakir, table: d83adde260d1, estimated cost: $0.0000\n",
      "Running daily data query for dataset: cellolar_developer_room, table: 2ccf6730ab8c, estimated cost: $0.0000\n",
      "Running daily data query for dataset: developer_room, table: d83adde26159, estimated cost: $0.0000\n",
      "Combined estimated cost for all datasets: $0.0000940909\n",
      "         dataset_id        date  num_entries\n",
      "0        GrowthRoom  2024-10-14         1853\n",
      "1        GrowthRoom  2024-10-15         4435\n",
      "2        GrowthRoom  2024-10-16          960\n",
      "3        GrowthRoom  2024-10-17          960\n",
      "4        GrowthRoom  2024-10-18          960\n",
      "..              ...         ...          ...\n",
      "212  developer_room  2025-01-04         1437\n",
      "213  developer_room  2025-01-05         1455\n",
      "214  developer_room  2025-01-06         1414\n",
      "215  developer_room  2025-01-07         1221\n",
      "216  developer_room  2025-01-08          801\n",
      "\n",
      "[217 rows x 3 columns]\n"
     ]
    }
   ],
   "source": [
    "# Initialize an empty list to store data for the DataFrame\n",
    "daily_data = []\n",
    "conmbined_cost = 0\n",
    "# Iterate through datasets and tables, then run the daily data query for each\n",
    "for dataset in client.list_datasets():\n",
    "    dataset_id = dataset.dataset_id\n",
    "\n",
    "    for table in client.list_tables(dataset_id):\n",
    "        table_id = table.table_id\n",
    "        daily_df, estimated_cost = query_daily_data(client, dataset_id, table_id)\n",
    "        print(f\"Running daily data query for dataset: {dataset_id}, table: {table_id}, estimated cost: ${estimated_cost:.4f}\")\n",
    "        combined_cost += estimated_cost\n",
    "        daily_data.append(daily_df)\n",
    "\n",
    "# Combine all daily data into a single DataFrame\n",
    "daily_data_df = pd.concat(daily_data, ignore_index=True)\n",
    "print(f\"Combined estimated cost for all datasets: ${combined_cost:.10f}\")\n",
    "# Display the DataFrame\n",
    "print(daily_data_df)"
   ]
  },
  {
   "cell_type": "code",
   "execution_count": 8,
   "metadata": {},
   "outputs": [],
   "source": [
    "# convert date to datetime\n",
    "daily_data_df['date'] = pd.to_datetime(daily_data_df['date'])\n",
    "# sort the data by date\n",
    "daily_data_df = daily_data_df.sort_values(by=[\"dataset_id\",'date'])\n",
    "# calculate the comlutative sum of num_entries foer each dataset_id\n",
    "daily_data_df[\"cumulative_num_entries\"] = daily_data_df.groupby('dataset_id')['num_entries'].cumsum()\n",
    "\n",
    "db_sum = 0\n",
    "dicty_db_size = {}\n",
    "for day in sorted(daily_data_df.date.unique()):\n",
    "    # Filter the data for the current day\n",
    "    day_data = daily_data_df[daily_data_df['date'] == day]\n",
    "    # Create a plot of the data for the current day\n",
    "    db_sum+=day_data[\"cumulative_num_entries\"].sum()\n",
    "    dicty_db_size[day] = db_sum\n",
    "# create df of dicty_db_size\n",
    "df_db_size = pd.DataFrame(list(dicty_db_size.items()),columns = ['date','db_size'])"
   ]
  },
  {
   "cell_type": "code",
   "execution_count": 9,
   "metadata": {},
   "outputs": [
    {
     "data": {
      "application/vnd.plotly.v1+json": {
       "config": {
        "plotlyServerURL": "https://plot.ly"
       },
       "data": [
        {
         "mode": "lines+markers",
         "name": "GrowthRoom",
         "type": "scatter",
         "x": [
          "2024-10-14T00:00:00",
          "2024-10-15T00:00:00",
          "2024-10-16T00:00:00",
          "2024-10-17T00:00:00",
          "2024-10-18T00:00:00",
          "2024-10-19T00:00:00",
          "2024-10-20T00:00:00",
          "2024-10-21T00:00:00",
          "2024-10-22T00:00:00",
          "2024-10-23T00:00:00",
          "2024-10-24T00:00:00",
          "2024-10-25T00:00:00",
          "2024-10-26T00:00:00",
          "2024-10-27T00:00:00",
          "2024-10-28T00:00:00",
          "2024-10-29T00:00:00",
          "2024-10-30T00:00:00",
          "2024-10-31T00:00:00",
          "2024-11-01T00:00:00",
          "2024-11-02T00:00:00",
          "2024-11-03T00:00:00",
          "2024-11-04T00:00:00",
          "2024-11-05T00:00:00",
          "2024-11-06T00:00:00",
          "2024-11-07T00:00:00",
          "2024-11-08T00:00:00",
          "2024-11-09T00:00:00",
          "2024-11-10T00:00:00",
          "2024-11-11T00:00:00",
          "2024-11-12T00:00:00",
          "2024-11-13T00:00:00",
          "2024-11-14T00:00:00",
          "2024-11-15T00:00:00",
          "2024-11-16T00:00:00",
          "2024-11-17T00:00:00",
          "2024-11-18T00:00:00",
          "2024-11-19T00:00:00",
          "2024-11-20T00:00:00",
          "2024-11-21T00:00:00",
          "2024-11-22T00:00:00",
          "2024-11-23T00:00:00",
          "2024-11-24T00:00:00",
          "2024-12-15T00:00:00",
          "2024-12-16T00:00:00",
          "2024-12-17T00:00:00",
          "2024-12-18T00:00:00",
          "2024-12-19T00:00:00",
          "2024-12-20T00:00:00",
          "2024-12-21T00:00:00",
          "2024-12-22T00:00:00",
          "2024-12-23T00:00:00",
          "2024-12-24T00:00:00",
          "2024-12-25T00:00:00",
          "2024-12-26T00:00:00",
          "2024-12-27T00:00:00",
          "2024-12-28T00:00:00",
          "2024-12-29T00:00:00"
         ],
         "xaxis": "x",
         "y": [
          1853,
          6288,
          7248,
          8208,
          9168,
          12045,
          16088,
          17048,
          18008,
          18968,
          19928,
          20890,
          21850,
          22846,
          23806,
          24766,
          25726,
          26686,
          27646,
          28606,
          29717,
          34734,
          35743,
          38843,
          41703,
          43895,
          47663,
          49187,
          53878,
          58711,
          59836,
          64444,
          67074,
          75034,
          81750,
          95073,
          120331,
          131610,
          147835,
          164476,
          181085,
          190593,
          192285,
          197085,
          203177,
          207437,
          209147,
          213947,
          218747,
          223302,
          227622,
          232184,
          236984,
          241784,
          246584,
          251382,
          253809
         ],
         "yaxis": "y"
        },
        {
         "mode": "lines+markers",
         "name": "Icore_Pi",
         "type": "scatter",
         "x": [
          "2024-12-09T00:00:00",
          "2024-12-10T00:00:00",
          "2024-12-11T00:00:00",
          "2024-12-12T00:00:00",
          "2024-12-13T00:00:00",
          "2024-12-14T00:00:00",
          "2024-12-15T00:00:00",
          "2024-12-16T00:00:00",
          "2024-12-17T00:00:00",
          "2024-12-18T00:00:00",
          "2024-12-19T00:00:00",
          "2024-12-20T00:00:00",
          "2024-12-21T00:00:00",
          "2024-12-22T00:00:00",
          "2024-12-23T00:00:00",
          "2024-12-24T00:00:00",
          "2024-12-25T00:00:00",
          "2024-12-26T00:00:00",
          "2024-12-27T00:00:00",
          "2024-12-28T00:00:00",
          "2024-12-29T00:00:00",
          "2024-12-30T00:00:00",
          "2024-12-31T00:00:00",
          "2025-01-01T00:00:00",
          "2025-01-02T00:00:00",
          "2025-01-03T00:00:00",
          "2025-01-04T00:00:00",
          "2025-01-05T00:00:00",
          "2025-01-06T00:00:00",
          "2025-01-07T00:00:00",
          "2025-01-08T00:00:00"
         ],
         "xaxis": "x",
         "y": [
          1759,
          5887,
          7042,
          10881,
          12000,
          15634,
          19640,
          21000,
          22194,
          25652,
          29491,
          33323,
          37404,
          41716,
          46021,
          50331,
          54636,
          58901,
          63199,
          67457,
          71760,
          76052,
          80332,
          84185,
          87523,
          90871,
          94205,
          99285,
          106221,
          113390,
          117377
         ],
         "yaxis": "y"
        },
        {
         "mode": "lines+markers",
         "name": "Yakir",
         "type": "scatter",
         "x": [
          "2025-01-05T00:00:00",
          "2025-01-06T00:00:00",
          "2025-01-07T00:00:00",
          "2025-01-08T00:00:00"
         ],
         "xaxis": "x",
         "y": [
          1323,
          3243,
          5163,
          6227
         ],
         "yaxis": "y"
        },
        {
         "mode": "lines+markers",
         "name": "cellolar_developer_room",
         "type": "scatter",
         "x": [
          "2024-09-25T00:00:00",
          "2024-09-26T00:00:00",
          "2024-09-27T00:00:00",
          "2024-09-28T00:00:00",
          "2024-09-29T00:00:00",
          "2024-09-30T00:00:00",
          "2024-10-10T00:00:00",
          "2024-10-11T00:00:00",
          "2024-10-12T00:00:00",
          "2024-10-13T00:00:00",
          "2024-10-14T00:00:00",
          "2024-10-15T00:00:00",
          "2024-10-16T00:00:00",
          "2024-10-17T00:00:00",
          "2024-10-18T00:00:00",
          "2024-10-19T00:00:00",
          "2024-10-20T00:00:00",
          "2024-10-21T00:00:00",
          "2024-10-22T00:00:00",
          "2024-10-23T00:00:00",
          "2024-10-24T00:00:00",
          "2024-10-25T00:00:00",
          "2024-10-26T00:00:00",
          "2024-10-27T00:00:00",
          "2024-10-28T00:00:00",
          "2024-10-29T00:00:00",
          "2024-10-30T00:00:00",
          "2024-10-31T00:00:00",
          "2024-11-01T00:00:00",
          "2024-11-02T00:00:00",
          "2024-11-03T00:00:00",
          "2024-11-04T00:00:00",
          "2024-11-05T00:00:00",
          "2024-11-06T00:00:00",
          "2024-11-07T00:00:00",
          "2024-11-08T00:00:00",
          "2024-11-09T00:00:00",
          "2024-11-10T00:00:00",
          "2024-11-11T00:00:00",
          "2024-11-12T00:00:00",
          "2024-11-13T00:00:00",
          "2024-11-14T00:00:00",
          "2024-11-15T00:00:00",
          "2024-11-16T00:00:00",
          "2024-11-17T00:00:00",
          "2024-11-18T00:00:00",
          "2024-11-19T00:00:00",
          "2024-11-20T00:00:00",
          "2024-11-21T00:00:00",
          "2024-11-22T00:00:00",
          "2024-11-23T00:00:00",
          "2024-11-24T00:00:00",
          "2024-11-25T00:00:00",
          "2024-11-26T00:00:00",
          "2024-11-27T00:00:00",
          "2024-11-28T00:00:00",
          "2024-11-29T00:00:00",
          "2024-11-30T00:00:00",
          "2024-12-01T00:00:00",
          "2024-12-02T00:00:00",
          "2024-12-03T00:00:00",
          "2024-12-04T00:00:00",
          "2024-12-05T00:00:00",
          "2024-12-06T00:00:00",
          "2024-12-07T00:00:00",
          "2024-12-08T00:00:00",
          "2024-12-09T00:00:00",
          "2024-12-10T00:00:00",
          "2024-12-11T00:00:00",
          "2024-12-12T00:00:00",
          "2024-12-13T00:00:00",
          "2024-12-14T00:00:00",
          "2024-12-15T00:00:00",
          "2024-12-16T00:00:00",
          "2024-12-17T00:00:00",
          "2024-12-18T00:00:00",
          "2024-12-19T00:00:00",
          "2024-12-20T00:00:00",
          "2024-12-21T00:00:00",
          "2024-12-22T00:00:00",
          "2024-12-23T00:00:00",
          "2024-12-24T00:00:00",
          "2024-12-25T00:00:00",
          "2024-12-26T00:00:00",
          "2024-12-27T00:00:00",
          "2024-12-28T00:00:00",
          "2024-12-29T00:00:00",
          "2024-12-30T00:00:00",
          "2024-12-31T00:00:00",
          "2025-01-01T00:00:00"
         ],
         "xaxis": "x",
         "y": [
          1808,
          5648,
          9488,
          11664,
          13584,
          15000,
          15712,
          17632,
          19552,
          21426,
          22775,
          23725,
          24685,
          25645,
          26605,
          27565,
          28525,
          29485,
          30445,
          31405,
          32365,
          33335,
          34294,
          35258,
          36218,
          37178,
          38138,
          39130,
          40090,
          41048,
          41970,
          42930,
          43890,
          44850,
          45810,
          46770,
          47730,
          48690,
          49650,
          50610,
          51570,
          52530,
          53490,
          54450,
          55410,
          56370,
          57330,
          58289,
          59249,
          60208,
          61168,
          62128,
          63088,
          64048,
          64883,
          65359,
          65839,
          66319,
          66799,
          67279,
          67759,
          68239,
          68719,
          69199,
          69679,
          70159,
          70639,
          71119,
          71599,
          72079,
          72559,
          73039,
          73519,
          73999,
          74479,
          74950,
          75430,
          75910,
          76390,
          76870,
          77350,
          77830,
          78310,
          78790,
          79265,
          79745,
          80225,
          80705,
          81185,
          81496
         ],
         "yaxis": "y"
        },
        {
         "mode": "lines+markers",
         "name": "developer_room",
         "type": "scatter",
         "x": [
          "2024-11-12T00:00:00",
          "2024-11-13T00:00:00",
          "2024-11-14T00:00:00",
          "2024-11-15T00:00:00",
          "2024-11-16T00:00:00",
          "2024-11-17T00:00:00",
          "2024-11-19T00:00:00",
          "2024-11-20T00:00:00",
          "2024-11-21T00:00:00",
          "2024-11-22T00:00:00",
          "2024-11-23T00:00:00",
          "2024-11-26T00:00:00",
          "2024-11-27T00:00:00",
          "2024-11-28T00:00:00",
          "2024-12-16T00:00:00",
          "2024-12-17T00:00:00",
          "2024-12-18T00:00:00",
          "2024-12-22T00:00:00",
          "2024-12-23T00:00:00",
          "2024-12-24T00:00:00",
          "2024-12-25T00:00:00",
          "2024-12-26T00:00:00",
          "2024-12-27T00:00:00",
          "2024-12-28T00:00:00",
          "2024-12-29T00:00:00",
          "2024-12-30T00:00:00",
          "2024-12-31T00:00:00",
          "2025-01-01T00:00:00",
          "2025-01-02T00:00:00",
          "2025-01-03T00:00:00",
          "2025-01-04T00:00:00",
          "2025-01-05T00:00:00",
          "2025-01-06T00:00:00",
          "2025-01-07T00:00:00",
          "2025-01-08T00:00:00"
         ],
         "xaxis": "x",
         "y": [
          615,
          2535,
          4449,
          7736,
          11576,
          14192,
          14870,
          16310,
          17490,
          18930,
          19192,
          19668,
          21108,
          21559,
          21881,
          24408,
          27722,
          29832,
          32623,
          35420,
          38216,
          40836,
          43155,
          45470,
          47786,
          50097,
          52410,
          54564,
          56478,
          57939,
          59376,
          60831,
          62245,
          63466,
          64267
         ],
         "yaxis": "y"
        },
        {
         "mode": "lines+markers",
         "name": "Database Size",
         "type": "scatter",
         "x": [
          "2024-09-25T00:00:00",
          "2024-09-26T00:00:00",
          "2024-09-27T00:00:00",
          "2024-09-28T00:00:00",
          "2024-09-29T00:00:00",
          "2024-09-30T00:00:00",
          "2024-10-10T00:00:00",
          "2024-10-11T00:00:00",
          "2024-10-12T00:00:00",
          "2024-10-13T00:00:00",
          "2024-10-14T00:00:00",
          "2024-10-15T00:00:00",
          "2024-10-16T00:00:00",
          "2024-10-17T00:00:00",
          "2024-10-18T00:00:00",
          "2024-10-19T00:00:00",
          "2024-10-20T00:00:00",
          "2024-10-21T00:00:00",
          "2024-10-22T00:00:00",
          "2024-10-23T00:00:00",
          "2024-10-24T00:00:00",
          "2024-10-25T00:00:00",
          "2024-10-26T00:00:00",
          "2024-10-27T00:00:00",
          "2024-10-28T00:00:00",
          "2024-10-29T00:00:00",
          "2024-10-30T00:00:00",
          "2024-10-31T00:00:00",
          "2024-11-01T00:00:00",
          "2024-11-02T00:00:00",
          "2024-11-03T00:00:00",
          "2024-11-04T00:00:00",
          "2024-11-05T00:00:00",
          "2024-11-06T00:00:00",
          "2024-11-07T00:00:00",
          "2024-11-08T00:00:00",
          "2024-11-09T00:00:00",
          "2024-11-10T00:00:00",
          "2024-11-11T00:00:00",
          "2024-11-12T00:00:00",
          "2024-11-13T00:00:00",
          "2024-11-14T00:00:00",
          "2024-11-15T00:00:00",
          "2024-11-16T00:00:00",
          "2024-11-17T00:00:00",
          "2024-11-18T00:00:00",
          "2024-11-19T00:00:00",
          "2024-11-20T00:00:00",
          "2024-11-21T00:00:00",
          "2024-11-22T00:00:00",
          "2024-11-23T00:00:00",
          "2024-11-24T00:00:00",
          "2024-11-25T00:00:00",
          "2024-11-26T00:00:00",
          "2024-11-27T00:00:00",
          "2024-11-28T00:00:00",
          "2024-11-29T00:00:00",
          "2024-11-30T00:00:00",
          "2024-12-01T00:00:00",
          "2024-12-02T00:00:00",
          "2024-12-03T00:00:00",
          "2024-12-04T00:00:00",
          "2024-12-05T00:00:00",
          "2024-12-06T00:00:00",
          "2024-12-07T00:00:00",
          "2024-12-08T00:00:00",
          "2024-12-09T00:00:00",
          "2024-12-10T00:00:00",
          "2024-12-11T00:00:00",
          "2024-12-12T00:00:00",
          "2024-12-13T00:00:00",
          "2024-12-14T00:00:00",
          "2024-12-15T00:00:00",
          "2024-12-16T00:00:00",
          "2024-12-17T00:00:00",
          "2024-12-18T00:00:00",
          "2024-12-19T00:00:00",
          "2024-12-20T00:00:00",
          "2024-12-21T00:00:00",
          "2024-12-22T00:00:00",
          "2024-12-23T00:00:00",
          "2024-12-24T00:00:00",
          "2024-12-25T00:00:00",
          "2024-12-26T00:00:00",
          "2024-12-27T00:00:00",
          "2024-12-28T00:00:00",
          "2024-12-29T00:00:00",
          "2024-12-30T00:00:00",
          "2024-12-31T00:00:00",
          "2025-01-01T00:00:00",
          "2025-01-02T00:00:00",
          "2025-01-03T00:00:00",
          "2025-01-04T00:00:00",
          "2025-01-05T00:00:00",
          "2025-01-06T00:00:00",
          "2025-01-07T00:00:00",
          "2025-01-08T00:00:00"
         ],
         "xaxis": "x2",
         "y": [
          1808,
          7456,
          16944,
          28608,
          42192,
          57192,
          72904,
          90536,
          110088,
          131514,
          156142,
          186155,
          218088,
          251941,
          287714,
          327324,
          371937,
          418470,
          466923,
          517296,
          569589,
          623814,
          679958,
          738062,
          798086,
          860030,
          923894,
          989710,
          1057446,
          1127100,
          1198787,
          1276451,
          1356084,
          1439777,
          1527290,
          1617955,
          1713348,
          1811225,
          1914753,
          2024689,
          2138630,
          2260053,
          2388353,
          2529413,
          2680765,
          2832208,
          3024739,
          3230948,
          3455522,
          3699136,
          3960581,
          4213302,
          4276390,
          4360106,
          4446097,
          4533015,
          4598854,
          4665173,
          4731972,
          4799251,
          4867010,
          4935249,
          5003968,
          5073167,
          5142846,
          5213005,
          5285403,
          5362409,
          5441050,
          5524010,
          5608569,
          5697242,
          5982686,
          6296651,
          6620909,
          6956670,
          7270738,
          7593918,
          7926459,
          8298179,
          8681795,
          9077560,
          9485706,
          9906017,
          10338220,
          10782274,
          11235854,
          11442708,
          11656635,
          11876880,
          12020881,
          12169691,
          12323272,
          12484711,
          12656420,
          12838439,
          13026310
         ],
         "yaxis": "y2"
        }
       ],
       "layout": {
        "annotations": [
         {
          "font": {
           "size": 16
          },
          "showarrow": false,
          "text": "Cumulative Number of Entries Over Time",
          "x": 0.5,
          "xanchor": "center",
          "xref": "paper",
          "y": 1,
          "yanchor": "bottom",
          "yref": "paper"
         },
         {
          "font": {
           "size": 16
          },
          "showarrow": false,
          "text": "Database Size Over Time",
          "x": 0.5,
          "xanchor": "center",
          "xref": "paper",
          "y": 0.375,
          "yanchor": "bottom",
          "yref": "paper"
         }
        ],
        "height": 800,
        "template": {
         "data": {
          "bar": [
           {
            "error_x": {
             "color": "#2a3f5f"
            },
            "error_y": {
             "color": "#2a3f5f"
            },
            "marker": {
             "line": {
              "color": "white",
              "width": 0.5
             },
             "pattern": {
              "fillmode": "overlay",
              "size": 10,
              "solidity": 0.2
             }
            },
            "type": "bar"
           }
          ],
          "barpolar": [
           {
            "marker": {
             "line": {
              "color": "white",
              "width": 0.5
             },
             "pattern": {
              "fillmode": "overlay",
              "size": 10,
              "solidity": 0.2
             }
            },
            "type": "barpolar"
           }
          ],
          "carpet": [
           {
            "aaxis": {
             "endlinecolor": "#2a3f5f",
             "gridcolor": "#C8D4E3",
             "linecolor": "#C8D4E3",
             "minorgridcolor": "#C8D4E3",
             "startlinecolor": "#2a3f5f"
            },
            "baxis": {
             "endlinecolor": "#2a3f5f",
             "gridcolor": "#C8D4E3",
             "linecolor": "#C8D4E3",
             "minorgridcolor": "#C8D4E3",
             "startlinecolor": "#2a3f5f"
            },
            "type": "carpet"
           }
          ],
          "choropleth": [
           {
            "colorbar": {
             "outlinewidth": 0,
             "ticks": ""
            },
            "type": "choropleth"
           }
          ],
          "contour": [
           {
            "colorbar": {
             "outlinewidth": 0,
             "ticks": ""
            },
            "colorscale": [
             [
              0,
              "#0d0887"
             ],
             [
              0.1111111111111111,
              "#46039f"
             ],
             [
              0.2222222222222222,
              "#7201a8"
             ],
             [
              0.3333333333333333,
              "#9c179e"
             ],
             [
              0.4444444444444444,
              "#bd3786"
             ],
             [
              0.5555555555555556,
              "#d8576b"
             ],
             [
              0.6666666666666666,
              "#ed7953"
             ],
             [
              0.7777777777777778,
              "#fb9f3a"
             ],
             [
              0.8888888888888888,
              "#fdca26"
             ],
             [
              1,
              "#f0f921"
             ]
            ],
            "type": "contour"
           }
          ],
          "contourcarpet": [
           {
            "colorbar": {
             "outlinewidth": 0,
             "ticks": ""
            },
            "type": "contourcarpet"
           }
          ],
          "heatmap": [
           {
            "colorbar": {
             "outlinewidth": 0,
             "ticks": ""
            },
            "colorscale": [
             [
              0,
              "#0d0887"
             ],
             [
              0.1111111111111111,
              "#46039f"
             ],
             [
              0.2222222222222222,
              "#7201a8"
             ],
             [
              0.3333333333333333,
              "#9c179e"
             ],
             [
              0.4444444444444444,
              "#bd3786"
             ],
             [
              0.5555555555555556,
              "#d8576b"
             ],
             [
              0.6666666666666666,
              "#ed7953"
             ],
             [
              0.7777777777777778,
              "#fb9f3a"
             ],
             [
              0.8888888888888888,
              "#fdca26"
             ],
             [
              1,
              "#f0f921"
             ]
            ],
            "type": "heatmap"
           }
          ],
          "heatmapgl": [
           {
            "colorbar": {
             "outlinewidth": 0,
             "ticks": ""
            },
            "colorscale": [
             [
              0,
              "#0d0887"
             ],
             [
              0.1111111111111111,
              "#46039f"
             ],
             [
              0.2222222222222222,
              "#7201a8"
             ],
             [
              0.3333333333333333,
              "#9c179e"
             ],
             [
              0.4444444444444444,
              "#bd3786"
             ],
             [
              0.5555555555555556,
              "#d8576b"
             ],
             [
              0.6666666666666666,
              "#ed7953"
             ],
             [
              0.7777777777777778,
              "#fb9f3a"
             ],
             [
              0.8888888888888888,
              "#fdca26"
             ],
             [
              1,
              "#f0f921"
             ]
            ],
            "type": "heatmapgl"
           }
          ],
          "histogram": [
           {
            "marker": {
             "pattern": {
              "fillmode": "overlay",
              "size": 10,
              "solidity": 0.2
             }
            },
            "type": "histogram"
           }
          ],
          "histogram2d": [
           {
            "colorbar": {
             "outlinewidth": 0,
             "ticks": ""
            },
            "colorscale": [
             [
              0,
              "#0d0887"
             ],
             [
              0.1111111111111111,
              "#46039f"
             ],
             [
              0.2222222222222222,
              "#7201a8"
             ],
             [
              0.3333333333333333,
              "#9c179e"
             ],
             [
              0.4444444444444444,
              "#bd3786"
             ],
             [
              0.5555555555555556,
              "#d8576b"
             ],
             [
              0.6666666666666666,
              "#ed7953"
             ],
             [
              0.7777777777777778,
              "#fb9f3a"
             ],
             [
              0.8888888888888888,
              "#fdca26"
             ],
             [
              1,
              "#f0f921"
             ]
            ],
            "type": "histogram2d"
           }
          ],
          "histogram2dcontour": [
           {
            "colorbar": {
             "outlinewidth": 0,
             "ticks": ""
            },
            "colorscale": [
             [
              0,
              "#0d0887"
             ],
             [
              0.1111111111111111,
              "#46039f"
             ],
             [
              0.2222222222222222,
              "#7201a8"
             ],
             [
              0.3333333333333333,
              "#9c179e"
             ],
             [
              0.4444444444444444,
              "#bd3786"
             ],
             [
              0.5555555555555556,
              "#d8576b"
             ],
             [
              0.6666666666666666,
              "#ed7953"
             ],
             [
              0.7777777777777778,
              "#fb9f3a"
             ],
             [
              0.8888888888888888,
              "#fdca26"
             ],
             [
              1,
              "#f0f921"
             ]
            ],
            "type": "histogram2dcontour"
           }
          ],
          "mesh3d": [
           {
            "colorbar": {
             "outlinewidth": 0,
             "ticks": ""
            },
            "type": "mesh3d"
           }
          ],
          "parcoords": [
           {
            "line": {
             "colorbar": {
              "outlinewidth": 0,
              "ticks": ""
             }
            },
            "type": "parcoords"
           }
          ],
          "pie": [
           {
            "automargin": true,
            "type": "pie"
           }
          ],
          "scatter": [
           {
            "fillpattern": {
             "fillmode": "overlay",
             "size": 10,
             "solidity": 0.2
            },
            "type": "scatter"
           }
          ],
          "scatter3d": [
           {
            "line": {
             "colorbar": {
              "outlinewidth": 0,
              "ticks": ""
             }
            },
            "marker": {
             "colorbar": {
              "outlinewidth": 0,
              "ticks": ""
             }
            },
            "type": "scatter3d"
           }
          ],
          "scattercarpet": [
           {
            "marker": {
             "colorbar": {
              "outlinewidth": 0,
              "ticks": ""
             }
            },
            "type": "scattercarpet"
           }
          ],
          "scattergeo": [
           {
            "marker": {
             "colorbar": {
              "outlinewidth": 0,
              "ticks": ""
             }
            },
            "type": "scattergeo"
           }
          ],
          "scattergl": [
           {
            "marker": {
             "colorbar": {
              "outlinewidth": 0,
              "ticks": ""
             }
            },
            "type": "scattergl"
           }
          ],
          "scattermapbox": [
           {
            "marker": {
             "colorbar": {
              "outlinewidth": 0,
              "ticks": ""
             }
            },
            "type": "scattermapbox"
           }
          ],
          "scatterpolar": [
           {
            "marker": {
             "colorbar": {
              "outlinewidth": 0,
              "ticks": ""
             }
            },
            "type": "scatterpolar"
           }
          ],
          "scatterpolargl": [
           {
            "marker": {
             "colorbar": {
              "outlinewidth": 0,
              "ticks": ""
             }
            },
            "type": "scatterpolargl"
           }
          ],
          "scatterternary": [
           {
            "marker": {
             "colorbar": {
              "outlinewidth": 0,
              "ticks": ""
             }
            },
            "type": "scatterternary"
           }
          ],
          "surface": [
           {
            "colorbar": {
             "outlinewidth": 0,
             "ticks": ""
            },
            "colorscale": [
             [
              0,
              "#0d0887"
             ],
             [
              0.1111111111111111,
              "#46039f"
             ],
             [
              0.2222222222222222,
              "#7201a8"
             ],
             [
              0.3333333333333333,
              "#9c179e"
             ],
             [
              0.4444444444444444,
              "#bd3786"
             ],
             [
              0.5555555555555556,
              "#d8576b"
             ],
             [
              0.6666666666666666,
              "#ed7953"
             ],
             [
              0.7777777777777778,
              "#fb9f3a"
             ],
             [
              0.8888888888888888,
              "#fdca26"
             ],
             [
              1,
              "#f0f921"
             ]
            ],
            "type": "surface"
           }
          ],
          "table": [
           {
            "cells": {
             "fill": {
              "color": "#EBF0F8"
             },
             "line": {
              "color": "white"
             }
            },
            "header": {
             "fill": {
              "color": "#C8D4E3"
             },
             "line": {
              "color": "white"
             }
            },
            "type": "table"
           }
          ]
         },
         "layout": {
          "annotationdefaults": {
           "arrowcolor": "#2a3f5f",
           "arrowhead": 0,
           "arrowwidth": 1
          },
          "autotypenumbers": "strict",
          "coloraxis": {
           "colorbar": {
            "outlinewidth": 0,
            "ticks": ""
           }
          },
          "colorscale": {
           "diverging": [
            [
             0,
             "#8e0152"
            ],
            [
             0.1,
             "#c51b7d"
            ],
            [
             0.2,
             "#de77ae"
            ],
            [
             0.3,
             "#f1b6da"
            ],
            [
             0.4,
             "#fde0ef"
            ],
            [
             0.5,
             "#f7f7f7"
            ],
            [
             0.6,
             "#e6f5d0"
            ],
            [
             0.7,
             "#b8e186"
            ],
            [
             0.8,
             "#7fbc41"
            ],
            [
             0.9,
             "#4d9221"
            ],
            [
             1,
             "#276419"
            ]
           ],
           "sequential": [
            [
             0,
             "#0d0887"
            ],
            [
             0.1111111111111111,
             "#46039f"
            ],
            [
             0.2222222222222222,
             "#7201a8"
            ],
            [
             0.3333333333333333,
             "#9c179e"
            ],
            [
             0.4444444444444444,
             "#bd3786"
            ],
            [
             0.5555555555555556,
             "#d8576b"
            ],
            [
             0.6666666666666666,
             "#ed7953"
            ],
            [
             0.7777777777777778,
             "#fb9f3a"
            ],
            [
             0.8888888888888888,
             "#fdca26"
            ],
            [
             1,
             "#f0f921"
            ]
           ],
           "sequentialminus": [
            [
             0,
             "#0d0887"
            ],
            [
             0.1111111111111111,
             "#46039f"
            ],
            [
             0.2222222222222222,
             "#7201a8"
            ],
            [
             0.3333333333333333,
             "#9c179e"
            ],
            [
             0.4444444444444444,
             "#bd3786"
            ],
            [
             0.5555555555555556,
             "#d8576b"
            ],
            [
             0.6666666666666666,
             "#ed7953"
            ],
            [
             0.7777777777777778,
             "#fb9f3a"
            ],
            [
             0.8888888888888888,
             "#fdca26"
            ],
            [
             1,
             "#f0f921"
            ]
           ]
          },
          "colorway": [
           "#636efa",
           "#EF553B",
           "#00cc96",
           "#ab63fa",
           "#FFA15A",
           "#19d3f3",
           "#FF6692",
           "#B6E880",
           "#FF97FF",
           "#FECB52"
          ],
          "font": {
           "color": "#2a3f5f"
          },
          "geo": {
           "bgcolor": "white",
           "lakecolor": "white",
           "landcolor": "white",
           "showlakes": true,
           "showland": true,
           "subunitcolor": "#C8D4E3"
          },
          "hoverlabel": {
           "align": "left"
          },
          "hovermode": "closest",
          "mapbox": {
           "style": "light"
          },
          "paper_bgcolor": "white",
          "plot_bgcolor": "white",
          "polar": {
           "angularaxis": {
            "gridcolor": "#EBF0F8",
            "linecolor": "#EBF0F8",
            "ticks": ""
           },
           "bgcolor": "white",
           "radialaxis": {
            "gridcolor": "#EBF0F8",
            "linecolor": "#EBF0F8",
            "ticks": ""
           }
          },
          "scene": {
           "xaxis": {
            "backgroundcolor": "white",
            "gridcolor": "#DFE8F3",
            "gridwidth": 2,
            "linecolor": "#EBF0F8",
            "showbackground": true,
            "ticks": "",
            "zerolinecolor": "#EBF0F8"
           },
           "yaxis": {
            "backgroundcolor": "white",
            "gridcolor": "#DFE8F3",
            "gridwidth": 2,
            "linecolor": "#EBF0F8",
            "showbackground": true,
            "ticks": "",
            "zerolinecolor": "#EBF0F8"
           },
           "zaxis": {
            "backgroundcolor": "white",
            "gridcolor": "#DFE8F3",
            "gridwidth": 2,
            "linecolor": "#EBF0F8",
            "showbackground": true,
            "ticks": "",
            "zerolinecolor": "#EBF0F8"
           }
          },
          "shapedefaults": {
           "line": {
            "color": "#2a3f5f"
           }
          },
          "ternary": {
           "aaxis": {
            "gridcolor": "#DFE8F3",
            "linecolor": "#A2B1C6",
            "ticks": ""
           },
           "baxis": {
            "gridcolor": "#DFE8F3",
            "linecolor": "#A2B1C6",
            "ticks": ""
           },
           "bgcolor": "white",
           "caxis": {
            "gridcolor": "#DFE8F3",
            "linecolor": "#A2B1C6",
            "ticks": ""
           }
          },
          "title": {
           "x": 0.05
          },
          "xaxis": {
           "automargin": true,
           "gridcolor": "#EBF0F8",
           "linecolor": "#EBF0F8",
           "ticks": "",
           "title": {
            "standoff": 15
           },
           "zerolinecolor": "#EBF0F8",
           "zerolinewidth": 2
          },
          "yaxis": {
           "automargin": true,
           "gridcolor": "#EBF0F8",
           "linecolor": "#EBF0F8",
           "ticks": "",
           "title": {
            "standoff": 15
           },
           "zerolinecolor": "#EBF0F8",
           "zerolinewidth": 2
          }
         }
        },
        "title": {
         "text": "Data Analysis"
        },
        "width": 1000,
        "xaxis": {
         "anchor": "y",
         "domain": [
          0,
          1
         ],
         "matches": "x2",
         "showticklabels": false
        },
        "xaxis2": {
         "anchor": "y2",
         "domain": [
          0,
          1
         ],
         "title": {
          "text": "Date"
         }
        },
        "yaxis": {
         "anchor": "x",
         "domain": [
          0.625,
          1
         ],
         "title": {
          "text": "Cumulative Number of Entries"
         }
        },
        "yaxis2": {
         "anchor": "x2",
         "domain": [
          0,
          0.375
         ],
         "title": {
          "text": "Database Size"
         }
        }
       }
      }
     },
     "metadata": {},
     "output_type": "display_data"
    }
   ],
   "source": [
    "from plotly.subplots import make_subplots\n",
    "\n",
    "import plotly.graph_objects as go\n",
    "\n",
    "# Create subplots\n",
    "fig = make_subplots(rows=2, cols=1, shared_xaxes=True, \n",
    "                    subplot_titles=('Cumulative Number of Entries Over Time', 'Database Size Over Time'))\n",
    "\n",
    "# Add the first plot (Cumulative Number of Entries Over Time)\n",
    "for dataset_id in daily_data_df['dataset_id'].unique():\n",
    "    dataset_df = daily_data_df[daily_data_df['dataset_id'] == dataset_id]\n",
    "    fig.add_trace(go.Scatter(x=dataset_df['date'], y=dataset_df['cumulative_num_entries'], mode='lines+markers', name=dataset_id), row=1, col=1)\n",
    "\n",
    "# Add the second plot (Database Size Over Time)\n",
    "fig.add_trace(go.Scatter(x=df_db_size['date'], y=df_db_size['db_size'], mode='lines+markers', name='Database Size'), row=2, col=1)\n",
    "\n",
    "# Update layout\n",
    "fig.update_layout(height=800, width=1000, title_text=\"Data Analysis\", template='plotly_white')\n",
    "fig.update_xaxes(title_text=\"Date\", row=2, col=1)\n",
    "fig.update_yaxes(title_text=\"Cumulative Number of Entries\", row=1, col=1)\n",
    "fig.update_yaxes(title_text=\"Database Size\", row=2, col=1)\n",
    "\n",
    "# Show the plot\n",
    "fig.show()"
   ]
  },
  {
   "cell_type": "code",
   "execution_count": null,
   "metadata": {},
   "outputs": [],
   "source": []
  }
 ],
 "metadata": {
  "kernelspec": {
   "display_name": "base",
   "language": "python",
   "name": "python3"
  },
  "language_info": {
   "codemirror_mode": {
    "name": "ipython",
    "version": 3
   },
   "file_extension": ".py",
   "mimetype": "text/x-python",
   "name": "python",
   "nbconvert_exporter": "python",
   "pygments_lexer": "ipython3",
   "version": "3.12.7"
  },
  "toc": {
   "base_numbering": 1,
   "nav_menu": {},
   "number_sections": false,
   "sideBar": true,
   "skip_h1_title": false,
   "title_cell": "Table of Contents",
   "title_sidebar": "Contents",
   "toc_cell": false,
   "toc_position": {},
   "toc_section_display": true,
   "toc_window_display": false
  }
 },
 "nbformat": 4,
 "nbformat_minor": 4
}
